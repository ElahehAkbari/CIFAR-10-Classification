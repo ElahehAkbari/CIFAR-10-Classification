{
  "nbformat": 4,
  "nbformat_minor": 0,
  "metadata": {
    "colab": {
      "name": "CI_extra.ipynb",
      "provenance": []
    },
    "kernelspec": {
      "name": "python3",
      "display_name": "Python 3"
    },
    "language_info": {
      "name": "python"
    },
    "accelerator": "GPU"
  },
  "cells": [
    {
      "cell_type": "code",
      "source": [
        "from tensorflow import keras"
      ],
      "metadata": {
        "id": "oLJjU8b5FugI"
      },
      "execution_count": 3,
      "outputs": []
    },
    {
      "cell_type": "code",
      "execution_count": 4,
      "metadata": {
        "colab": {
          "base_uri": "https://localhost:8080/"
        },
        "id": "l1WfbAYWFQp1",
        "outputId": "0a041312-4c7e-4dbd-8926-271e00bd2f7c"
      },
      "outputs": [
        {
          "output_type": "stream",
          "name": "stdout",
          "text": [
            "Downloading data from https://www.cs.toronto.edu/~kriz/cifar-10-python.tar.gz\n",
            "170500096/170498071 [==============================] - 2s 0us/step\n",
            "170508288/170498071 [==============================] - 2s 0us/step\n"
          ]
        }
      ],
      "source": [
        "(x_train, y_train), (x_test, y_test) = keras.datasets.cifar10.load_data()"
      ]
    },
    {
      "cell_type": "markdown",
      "source": [
        "Normalize"
      ],
      "metadata": {
        "id": "i-sD4ngiFz1k"
      }
    },
    {
      "cell_type": "code",
      "source": [
        "x_train = x_train / 255.0\n",
        "x_test = x_test / 255.0"
      ],
      "metadata": {
        "id": "2xU_LTUvF1Eu"
      },
      "execution_count": 5,
      "outputs": []
    },
    {
      "cell_type": "markdown",
      "source": [
        "Model"
      ],
      "metadata": {
        "id": "uoN3WA8cGWh2"
      }
    },
    {
      "cell_type": "code",
      "source": [
        "from keras.models import Sequential\n",
        "from keras.layers import Dense, Dropout, Flatten, Activation, BatchNormalization\n",
        "from keras.layers.convolutional import Conv2D\n",
        "from keras.layers.pooling import MaxPooling2D\n",
        "from keras import losses\n",
        "\n",
        "model = Sequential()\n",
        "\n",
        "model.add(Conv2D(32, kernel_size=(3, 3), padding='same', input_shape=x_train.shape[1:], activation =\"relu\"))\n",
        "model.add(Conv2D(32, kernel_size=(3, 3), padding='same', activation =\"relu\"))\n",
        "model.add(MaxPooling2D(pool_size=(2, 2)))\n",
        "\n",
        "model.add(Conv2D(64, kernel_size=(3, 3), padding='same', input_shape=x_train.shape[1:], activation =\"relu\"))\n",
        "model.add(Conv2D(64, kernel_size=(3, 3), padding='same', input_shape=x_train.shape[1:], activation =\"relu\"))\n",
        "model.add(MaxPooling2D(pool_size=(2, 2)))\n",
        "\n",
        "model.add(Conv2D(128, kernel_size=(3, 3), padding='same', input_shape=x_train.shape[1:], activation =\"relu\"))\n",
        "model.add(Conv2D(128, kernel_size=(3, 3), padding='same', input_shape=x_train.shape[1:], activation =\"relu\"))\n",
        "model.add(MaxPooling2D(pool_size=(2, 2)))\n",
        "\n",
        "model.add(Conv2D(128, kernel_size=(3, 3), padding='same', input_shape=x_train.shape[1:], activation =\"relu\"))\n",
        "model.add(Conv2D(128, kernel_size=(3, 3), padding='same', input_shape=x_train.shape[1:], activation =\"relu\"))\n",
        "model.add(MaxPooling2D(pool_size=(2, 2)))\n",
        "\n",
        "model.add(Flatten())\n",
        "model.add(Dense(128, activation='relu'))\n",
        "model.add(Dense(128, activation='relu'))\n",
        "model.add(Dense(64, activation='relu'))\n",
        "model.add(Dense(10, activation='relu'))\n",
        "model.add(Activation('softmax'))\n",
        "\n",
        "print(model.summary())\n",
        "\n",
        "model.compile(loss=losses.SparseCategoricalCrossentropy(), metrics=['accuracy'])"
      ],
      "metadata": {
        "colab": {
          "base_uri": "https://localhost:8080/"
        },
        "id": "w4BQ4MipGXd8",
        "outputId": "2fd00b4a-5d50-4702-975a-0ea62015b713"
      },
      "execution_count": 6,
      "outputs": [
        {
          "output_type": "stream",
          "name": "stdout",
          "text": [
            "Model: \"sequential_1\"\n",
            "_________________________________________________________________\n",
            " Layer (type)                Output Shape              Param #   \n",
            "=================================================================\n",
            " conv2d (Conv2D)             (None, 32, 32, 32)        896       \n",
            "                                                                 \n",
            " conv2d_1 (Conv2D)           (None, 32, 32, 32)        9248      \n",
            "                                                                 \n",
            " max_pooling2d (MaxPooling2D  (None, 16, 16, 32)       0         \n",
            " )                                                               \n",
            "                                                                 \n",
            " conv2d_2 (Conv2D)           (None, 16, 16, 64)        18496     \n",
            "                                                                 \n",
            " conv2d_3 (Conv2D)           (None, 16, 16, 64)        36928     \n",
            "                                                                 \n",
            " max_pooling2d_1 (MaxPooling  (None, 8, 8, 64)         0         \n",
            " 2D)                                                             \n",
            "                                                                 \n",
            " conv2d_4 (Conv2D)           (None, 8, 8, 128)         73856     \n",
            "                                                                 \n",
            " conv2d_5 (Conv2D)           (None, 8, 8, 128)         147584    \n",
            "                                                                 \n",
            " max_pooling2d_2 (MaxPooling  (None, 4, 4, 128)        0         \n",
            " 2D)                                                             \n",
            "                                                                 \n",
            " conv2d_6 (Conv2D)           (None, 4, 4, 128)         147584    \n",
            "                                                                 \n",
            " conv2d_7 (Conv2D)           (None, 4, 4, 128)         147584    \n",
            "                                                                 \n",
            " max_pooling2d_3 (MaxPooling  (None, 2, 2, 128)        0         \n",
            " 2D)                                                             \n",
            "                                                                 \n",
            " flatten (Flatten)           (None, 512)               0         \n",
            "                                                                 \n",
            " dense (Dense)               (None, 128)               65664     \n",
            "                                                                 \n",
            " dense_1 (Dense)             (None, 128)               16512     \n",
            "                                                                 \n",
            " dense_2 (Dense)             (None, 64)                8256      \n",
            "                                                                 \n",
            " dense_3 (Dense)             (None, 10)                650       \n",
            "                                                                 \n",
            " activation (Activation)     (None, 10)                0         \n",
            "                                                                 \n",
            "=================================================================\n",
            "Total params: 673,258\n",
            "Trainable params: 673,258\n",
            "Non-trainable params: 0\n",
            "_________________________________________________________________\n",
            "None\n"
          ]
        }
      ]
    },
    {
      "cell_type": "code",
      "source": [
        "history = model.fit(x_train, y_train,\n",
        "              batch_size=32,\n",
        "              epochs=10,\n",
        "              validation_data=(x_test, y_test))"
      ],
      "metadata": {
        "colab": {
          "base_uri": "https://localhost:8080/"
        },
        "id": "qlz80UXxK5CZ",
        "outputId": "9310f6eb-1c18-4dfc-e6c3-e18166c3e62f"
      },
      "execution_count": 7,
      "outputs": [
        {
          "output_type": "stream",
          "name": "stdout",
          "text": [
            "Epoch 1/10\n",
            "1563/1563 [==============================] - 59s 31ms/step - loss: 1.9698 - accuracy: 0.3146 - val_loss: 1.7545 - val_accuracy: 0.3964\n",
            "Epoch 2/10\n",
            "1563/1563 [==============================] - 47s 30ms/step - loss: 1.4183 - accuracy: 0.5198 - val_loss: 1.5029 - val_accuracy: 0.4903\n",
            "Epoch 3/10\n",
            "1563/1563 [==============================] - 47s 30ms/step - loss: 1.1968 - accuracy: 0.6045 - val_loss: 1.1712 - val_accuracy: 0.6047\n",
            "Epoch 4/10\n",
            "1563/1563 [==============================] - 48s 31ms/step - loss: 1.0889 - accuracy: 0.6459 - val_loss: 1.1190 - val_accuracy: 0.6412\n",
            "Epoch 5/10\n",
            "1563/1563 [==============================] - 48s 31ms/step - loss: 0.9786 - accuracy: 0.6852 - val_loss: 0.9807 - val_accuracy: 0.6647\n",
            "Epoch 6/10\n",
            "1563/1563 [==============================] - 47s 30ms/step - loss: 0.8531 - accuracy: 0.7248 - val_loss: 1.0977 - val_accuracy: 0.6513\n",
            "Epoch 7/10\n",
            "1563/1563 [==============================] - 47s 30ms/step - loss: 0.8396 - accuracy: 0.7323 - val_loss: 0.9741 - val_accuracy: 0.7019\n",
            "Epoch 8/10\n",
            "1563/1563 [==============================] - 48s 30ms/step - loss: 0.8519 - accuracy: 0.7314 - val_loss: 1.1346 - val_accuracy: 0.6461\n",
            "Epoch 9/10\n",
            "1563/1563 [==============================] - 47s 30ms/step - loss: 0.8734 - accuracy: 0.7317 - val_loss: 1.0746 - val_accuracy: 0.6587\n",
            "Epoch 10/10\n",
            "1563/1563 [==============================] - 47s 30ms/step - loss: 0.9263 - accuracy: 0.7161 - val_loss: 1.5728 - val_accuracy: 0.6710\n"
          ]
        }
      ]
    },
    {
      "cell_type": "code",
      "source": [
        "loss, accuracy = model.evaluate(x_test, y_test)"
      ],
      "metadata": {
        "colab": {
          "base_uri": "https://localhost:8080/"
        },
        "id": "JfipZoURm9Vn",
        "outputId": "90ce5d90-8352-4e01-d5cf-d9d37ed4d864"
      },
      "execution_count": 8,
      "outputs": [
        {
          "output_type": "stream",
          "name": "stdout",
          "text": [
            "313/313 [==============================] - 3s 9ms/step - loss: 1.5728 - accuracy: 0.6710\n"
          ]
        }
      ]
    },
    {
      "cell_type": "markdown",
      "source": [
        "**Add batch normalization**"
      ],
      "metadata": {
        "id": "K_0vLm6uu7h1"
      }
    },
    {
      "cell_type": "code",
      "source": [
        "model = Sequential()\n",
        "\n",
        "model.add(Conv2D(32, kernel_size=(3, 3), padding='same', input_shape=x_train.shape[1:], activation =\"relu\"))\n",
        "model.add(Conv2D(32, kernel_size=(3, 3), padding='same', activation =\"relu\"))\n",
        "model.add(MaxPooling2D(pool_size=(2, 2)))\n",
        "\n",
        "model.add(Conv2D(64, kernel_size=(3, 3), padding='same', input_shape=x_train.shape[1:], activation =\"relu\"))\n",
        "model.add(Conv2D(64, kernel_size=(3, 3), padding='same', input_shape=x_train.shape[1:], activation =\"relu\"))\n",
        "model.add(MaxPooling2D(pool_size=(2, 2)))\n",
        "\n",
        "model.add(Conv2D(128, kernel_size=(3, 3), padding='same', input_shape=x_train.shape[1:], activation =\"relu\"))\n",
        "model.add(Conv2D(128, kernel_size=(3, 3), padding='same', input_shape=x_train.shape[1:], activation =\"relu\"))\n",
        "model.add(MaxPooling2D(pool_size=(2, 2)))\n",
        "\n",
        "model.add(Conv2D(128, kernel_size=(3, 3), padding='same', input_shape=x_train.shape[1:], activation =\"relu\"))\n",
        "model.add(Conv2D(128, kernel_size=(3, 3), padding='same', input_shape=x_train.shape[1:], activation =\"relu\"))\n",
        "model.add(MaxPooling2D(pool_size=(2, 2)))\n",
        "\n",
        "model.add(Flatten())\n",
        "model.add(Dense(128, activation='relu'))\n",
        "# batch normalization\n",
        "model.add(BatchNormalization())\n",
        "model.add(Dense(128, activation='relu'))\n",
        "# batch normalization\n",
        "model.add(BatchNormalization())\n",
        "model.add(Dense(64, activation='relu'))\n",
        "model.add(Dense(10, activation='relu'))\n",
        "# batch normalization\n",
        "model.add(BatchNormalization())\n",
        "model.add(Activation('softmax'))\n",
        "\n",
        "print(model.summary())\n",
        "\n",
        "model.compile(loss=losses.SparseCategoricalCrossentropy(), metrics=['accuracy'])"
      ],
      "metadata": {
        "colab": {
          "base_uri": "https://localhost:8080/"
        },
        "id": "QmGglvt_jBr5",
        "outputId": "24be4083-778b-45d9-d2f7-1a734d9afd20"
      },
      "execution_count": 9,
      "outputs": [
        {
          "output_type": "stream",
          "name": "stdout",
          "text": [
            "Model: \"sequential_2\"\n",
            "_________________________________________________________________\n",
            " Layer (type)                Output Shape              Param #   \n",
            "=================================================================\n",
            " conv2d_8 (Conv2D)           (None, 32, 32, 32)        896       \n",
            "                                                                 \n",
            " conv2d_9 (Conv2D)           (None, 32, 32, 32)        9248      \n",
            "                                                                 \n",
            " max_pooling2d_4 (MaxPooling  (None, 16, 16, 32)       0         \n",
            " 2D)                                                             \n",
            "                                                                 \n",
            " conv2d_10 (Conv2D)          (None, 16, 16, 64)        18496     \n",
            "                                                                 \n",
            " conv2d_11 (Conv2D)          (None, 16, 16, 64)        36928     \n",
            "                                                                 \n",
            " max_pooling2d_5 (MaxPooling  (None, 8, 8, 64)         0         \n",
            " 2D)                                                             \n",
            "                                                                 \n",
            " conv2d_12 (Conv2D)          (None, 8, 8, 128)         73856     \n",
            "                                                                 \n",
            " conv2d_13 (Conv2D)          (None, 8, 8, 128)         147584    \n",
            "                                                                 \n",
            " max_pooling2d_6 (MaxPooling  (None, 4, 4, 128)        0         \n",
            " 2D)                                                             \n",
            "                                                                 \n",
            " conv2d_14 (Conv2D)          (None, 4, 4, 128)         147584    \n",
            "                                                                 \n",
            " conv2d_15 (Conv2D)          (None, 4, 4, 128)         147584    \n",
            "                                                                 \n",
            " max_pooling2d_7 (MaxPooling  (None, 2, 2, 128)        0         \n",
            " 2D)                                                             \n",
            "                                                                 \n",
            " flatten_1 (Flatten)         (None, 512)               0         \n",
            "                                                                 \n",
            " dense_4 (Dense)             (None, 128)               65664     \n",
            "                                                                 \n",
            " batch_normalization (BatchN  (None, 128)              512       \n",
            " ormalization)                                                   \n",
            "                                                                 \n",
            " dense_5 (Dense)             (None, 128)               16512     \n",
            "                                                                 \n",
            " batch_normalization_1 (Batc  (None, 128)              512       \n",
            " hNormalization)                                                 \n",
            "                                                                 \n",
            " dense_6 (Dense)             (None, 64)                8256      \n",
            "                                                                 \n",
            " dense_7 (Dense)             (None, 10)                650       \n",
            "                                                                 \n",
            " batch_normalization_2 (Batc  (None, 10)               40        \n",
            " hNormalization)                                                 \n",
            "                                                                 \n",
            " activation_1 (Activation)   (None, 10)                0         \n",
            "                                                                 \n",
            "=================================================================\n",
            "Total params: 674,322\n",
            "Trainable params: 673,790\n",
            "Non-trainable params: 532\n",
            "_________________________________________________________________\n",
            "None\n"
          ]
        }
      ]
    },
    {
      "cell_type": "code",
      "source": [
        "history = model.fit(x_train, y_train,\n",
        "              batch_size=32,\n",
        "              epochs=10,\n",
        "              validation_data=(x_test, y_test))"
      ],
      "metadata": {
        "colab": {
          "base_uri": "https://localhost:8080/"
        },
        "id": "xxlkRkLgshCo",
        "outputId": "d4eb2ef5-8e09-4213-beff-6c4231221ff8"
      },
      "execution_count": 10,
      "outputs": [
        {
          "output_type": "stream",
          "name": "stdout",
          "text": [
            "Epoch 1/10\n",
            "1563/1563 [==============================] - 53s 32ms/step - loss: 1.7763 - accuracy: 0.3582 - val_loss: 1.8533 - val_accuracy: 0.3703\n",
            "Epoch 2/10\n",
            "1563/1563 [==============================] - 49s 31ms/step - loss: 1.3262 - accuracy: 0.5357 - val_loss: 1.4281 - val_accuracy: 0.5148\n",
            "Epoch 3/10\n",
            "1563/1563 [==============================] - 51s 33ms/step - loss: 1.1262 - accuracy: 0.6131 - val_loss: 1.9346 - val_accuracy: 0.4015\n",
            "Epoch 4/10\n",
            "1563/1563 [==============================] - 49s 31ms/step - loss: 0.9765 - accuracy: 0.6685 - val_loss: 1.4049 - val_accuracy: 0.5504\n",
            "Epoch 5/10\n",
            "1563/1563 [==============================] - 49s 31ms/step - loss: 0.8555 - accuracy: 0.7116 - val_loss: 5.2801 - val_accuracy: 0.5549\n",
            "Epoch 6/10\n",
            "1563/1563 [==============================] - 49s 31ms/step - loss: 0.7647 - accuracy: 0.7455 - val_loss: 1.0471 - val_accuracy: 0.7091\n",
            "Epoch 7/10\n",
            "1563/1563 [==============================] - 49s 31ms/step - loss: 0.6918 - accuracy: 0.7707 - val_loss: 1.0035 - val_accuracy: 0.6947\n",
            "Epoch 8/10\n",
            "1563/1563 [==============================] - 49s 31ms/step - loss: 0.6218 - accuracy: 0.7948 - val_loss: 1.0804 - val_accuracy: 0.6637\n",
            "Epoch 9/10\n",
            "1563/1563 [==============================] - 49s 31ms/step - loss: 0.5723 - accuracy: 0.8124 - val_loss: 0.7091 - val_accuracy: 0.7566\n",
            "Epoch 10/10\n",
            "1563/1563 [==============================] - 49s 31ms/step - loss: 0.5192 - accuracy: 0.8296 - val_loss: 9.0241 - val_accuracy: 0.7853\n"
          ]
        }
      ]
    },
    {
      "cell_type": "code",
      "source": [
        "loss, accuracy = model.evaluate(x_test, y_test)"
      ],
      "metadata": {
        "colab": {
          "base_uri": "https://localhost:8080/"
        },
        "id": "YEwkI52Au4My",
        "outputId": "44481b2e-1596-46bf-8aa6-bb975a604c9d"
      },
      "execution_count": 11,
      "outputs": [
        {
          "output_type": "stream",
          "name": "stdout",
          "text": [
            "313/313 [==============================] - 3s 10ms/step - loss: 9.0241 - accuracy: 0.7853\n"
          ]
        }
      ]
    },
    {
      "cell_type": "markdown",
      "source": [
        "**Add dropout**"
      ],
      "metadata": {
        "id": "u1efiwsMu_Ix"
      }
    },
    {
      "cell_type": "code",
      "source": [
        "model = Sequential()\n",
        "\n",
        "model.add(Conv2D(32, kernel_size=(3, 3), padding='same', input_shape=x_train.shape[1:], activation =\"relu\"))\n",
        "model.add(Conv2D(32, kernel_size=(3, 3), padding='same', activation =\"relu\"))\n",
        "model.add(MaxPooling2D(pool_size=(2, 2)))\n",
        "# add dropout\n",
        "model.add(Dropout(0.3))\n",
        "\n",
        "model.add(Conv2D(64, kernel_size=(3, 3), padding='same', input_shape=x_train.shape[1:], activation =\"relu\"))\n",
        "model.add(Conv2D(64, kernel_size=(3, 3), padding='same', input_shape=x_train.shape[1:], activation =\"relu\"))\n",
        "model.add(MaxPooling2D(pool_size=(2, 2)))\n",
        "# add dropout\n",
        "model.add(Dropout(0.3))\n",
        "\n",
        "model.add(Conv2D(128, kernel_size=(3, 3), padding='same', input_shape=x_train.shape[1:], activation =\"relu\"))\n",
        "model.add(Conv2D(128, kernel_size=(3, 3), padding='same', input_shape=x_train.shape[1:], activation =\"relu\"))\n",
        "model.add(MaxPooling2D(pool_size=(2, 2)))\n",
        "# add dropout\n",
        "model.add(Dropout(0.3))\n",
        "\n",
        "model.add(Conv2D(128, kernel_size=(3, 3), padding='same', input_shape=x_train.shape[1:], activation =\"relu\"))\n",
        "model.add(Conv2D(128, kernel_size=(3, 3), padding='same', input_shape=x_train.shape[1:], activation =\"relu\"))\n",
        "model.add(MaxPooling2D(pool_size=(2, 2)))\n",
        "# add dropout\n",
        "model.add(Dropout(0.3))\n",
        "\n",
        "model.add(Flatten())\n",
        "model.add(Dense(128, activation='relu'))\n",
        "# batch normalization\n",
        "model.add(BatchNormalization())\n",
        "model.add(Dense(128, activation='relu'))\n",
        "# batch normalization\n",
        "model.add(BatchNormalization())\n",
        "model.add(Dense(64, activation='relu'))\n",
        "# add dropout\n",
        "model.add(Dropout(0.3))\n",
        "model.add(Dense(10, activation='relu'))\n",
        "# batch normalization\n",
        "model.add(BatchNormalization())\n",
        "model.add(Activation('softmax'))\n",
        "\n",
        "print(model.summary())\n",
        "\n",
        "model.compile(loss=losses.SparseCategoricalCrossentropy(), metrics=['accuracy'])"
      ],
      "metadata": {
        "colab": {
          "base_uri": "https://localhost:8080/"
        },
        "id": "YwXzj3TCvHdT",
        "outputId": "c57ff196-d1d9-4c00-ddaf-303513f1f322"
      },
      "execution_count": 12,
      "outputs": [
        {
          "output_type": "stream",
          "name": "stdout",
          "text": [
            "Model: \"sequential_3\"\n",
            "_________________________________________________________________\n",
            " Layer (type)                Output Shape              Param #   \n",
            "=================================================================\n",
            " conv2d_16 (Conv2D)          (None, 32, 32, 32)        896       \n",
            "                                                                 \n",
            " conv2d_17 (Conv2D)          (None, 32, 32, 32)        9248      \n",
            "                                                                 \n",
            " max_pooling2d_8 (MaxPooling  (None, 16, 16, 32)       0         \n",
            " 2D)                                                             \n",
            "                                                                 \n",
            " dropout (Dropout)           (None, 16, 16, 32)        0         \n",
            "                                                                 \n",
            " conv2d_18 (Conv2D)          (None, 16, 16, 64)        18496     \n",
            "                                                                 \n",
            " conv2d_19 (Conv2D)          (None, 16, 16, 64)        36928     \n",
            "                                                                 \n",
            " max_pooling2d_9 (MaxPooling  (None, 8, 8, 64)         0         \n",
            " 2D)                                                             \n",
            "                                                                 \n",
            " dropout_1 (Dropout)         (None, 8, 8, 64)          0         \n",
            "                                                                 \n",
            " conv2d_20 (Conv2D)          (None, 8, 8, 128)         73856     \n",
            "                                                                 \n",
            " conv2d_21 (Conv2D)          (None, 8, 8, 128)         147584    \n",
            "                                                                 \n",
            " max_pooling2d_10 (MaxPoolin  (None, 4, 4, 128)        0         \n",
            " g2D)                                                            \n",
            "                                                                 \n",
            " dropout_2 (Dropout)         (None, 4, 4, 128)         0         \n",
            "                                                                 \n",
            " conv2d_22 (Conv2D)          (None, 4, 4, 128)         147584    \n",
            "                                                                 \n",
            " conv2d_23 (Conv2D)          (None, 4, 4, 128)         147584    \n",
            "                                                                 \n",
            " max_pooling2d_11 (MaxPoolin  (None, 2, 2, 128)        0         \n",
            " g2D)                                                            \n",
            "                                                                 \n",
            " dropout_3 (Dropout)         (None, 2, 2, 128)         0         \n",
            "                                                                 \n",
            " flatten_2 (Flatten)         (None, 512)               0         \n",
            "                                                                 \n",
            " dense_8 (Dense)             (None, 128)               65664     \n",
            "                                                                 \n",
            " batch_normalization_3 (Batc  (None, 128)              512       \n",
            " hNormalization)                                                 \n",
            "                                                                 \n",
            " dense_9 (Dense)             (None, 128)               16512     \n",
            "                                                                 \n",
            " batch_normalization_4 (Batc  (None, 128)              512       \n",
            " hNormalization)                                                 \n",
            "                                                                 \n",
            " dense_10 (Dense)            (None, 64)                8256      \n",
            "                                                                 \n",
            " dropout_4 (Dropout)         (None, 64)                0         \n",
            "                                                                 \n",
            " dense_11 (Dense)            (None, 10)                650       \n",
            "                                                                 \n",
            " batch_normalization_5 (Batc  (None, 10)               40        \n",
            " hNormalization)                                                 \n",
            "                                                                 \n",
            " activation_2 (Activation)   (None, 10)                0         \n",
            "                                                                 \n",
            "=================================================================\n",
            "Total params: 674,322\n",
            "Trainable params: 673,790\n",
            "Non-trainable params: 532\n",
            "_________________________________________________________________\n",
            "None\n"
          ]
        }
      ]
    },
    {
      "cell_type": "code",
      "source": [
        "history = model.fit(x_train, y_train,\n",
        "              batch_size=32,\n",
        "              epochs=10,\n",
        "              validation_data=(x_test, y_test))"
      ],
      "metadata": {
        "colab": {
          "base_uri": "https://localhost:8080/"
        },
        "id": "lg7S8Wa4v-u3",
        "outputId": "f0d4e522-6538-4593-de6b-e6762d3089b2"
      },
      "execution_count": 13,
      "outputs": [
        {
          "output_type": "stream",
          "name": "stdout",
          "text": [
            "Epoch 1/10\n",
            "1563/1563 [==============================] - 54s 33ms/step - loss: 1.9592 - accuracy: 0.2642 - val_loss: 1.9222 - val_accuracy: 0.2846\n",
            "Epoch 2/10\n",
            "1563/1563 [==============================] - 51s 32ms/step - loss: 1.6375 - accuracy: 0.4000 - val_loss: 1.5436 - val_accuracy: 0.4354\n",
            "Epoch 3/10\n",
            "1563/1563 [==============================] - 50s 32ms/step - loss: 1.4512 - accuracy: 0.4797 - val_loss: 1.6259 - val_accuracy: 0.4428\n",
            "Epoch 4/10\n",
            "1563/1563 [==============================] - 51s 33ms/step - loss: 1.3059 - accuracy: 0.5405 - val_loss: 2.0772 - val_accuracy: 0.3615\n",
            "Epoch 5/10\n",
            "1563/1563 [==============================] - 51s 33ms/step - loss: 1.1915 - accuracy: 0.5867 - val_loss: 1.0725 - val_accuracy: 0.6180\n",
            "Epoch 6/10\n",
            "1563/1563 [==============================] - 51s 33ms/step - loss: 1.1160 - accuracy: 0.6112 - val_loss: 0.9242 - val_accuracy: 0.6725\n",
            "Epoch 7/10\n",
            "1563/1563 [==============================] - 51s 33ms/step - loss: 1.0551 - accuracy: 0.6361 - val_loss: 0.9401 - val_accuracy: 0.6769\n",
            "Epoch 8/10\n",
            "1563/1563 [==============================] - 51s 33ms/step - loss: 0.9972 - accuracy: 0.6588 - val_loss: 0.9685 - val_accuracy: 0.6617\n",
            "Epoch 9/10\n",
            "1563/1563 [==============================] - 51s 33ms/step - loss: 0.9546 - accuracy: 0.6743 - val_loss: 0.8549 - val_accuracy: 0.7112\n",
            "Epoch 10/10\n",
            "1563/1563 [==============================] - 51s 33ms/step - loss: 0.9126 - accuracy: 0.6924 - val_loss: 0.9939 - val_accuracy: 0.6628\n"
          ]
        }
      ]
    },
    {
      "cell_type": "code",
      "source": [
        "loss, accuracy = model.evaluate(x_test, y_test)"
      ],
      "metadata": {
        "colab": {
          "base_uri": "https://localhost:8080/"
        },
        "id": "0iUHHa8T1ZLT",
        "outputId": "7f3e039a-7682-42ae-9d3a-6ee1806896e8"
      },
      "execution_count": 14,
      "outputs": [
        {
          "output_type": "stream",
          "name": "stdout",
          "text": [
            "313/313 [==============================] - 3s 10ms/step - loss: 0.9939 - accuracy: 0.6628\n"
          ]
        }
      ]
    },
    {
      "cell_type": "markdown",
      "source": [
        "Optimizers"
      ],
      "metadata": {
        "id": "GITvogkA9EHd"
      }
    },
    {
      "cell_type": "code",
      "source": [
        "model.compile(optimizer='Adam', loss=losses.SparseCategoricalCrossentropy(), metrics=['accuracy'])\n",
        "history = model.fit(x_train, y_train,\n",
        "              batch_size=32,\n",
        "              epochs=10,\n",
        "              validation_data=(x_test, y_test))"
      ],
      "metadata": {
        "colab": {
          "base_uri": "https://localhost:8080/"
        },
        "id": "SS74B4sw9Hnz",
        "outputId": "ad0f2fe3-9b9b-4ca0-9126-8403d8243314"
      },
      "execution_count": 15,
      "outputs": [
        {
          "output_type": "stream",
          "name": "stdout",
          "text": [
            "Epoch 1/10\n",
            "1563/1563 [==============================] - 46s 28ms/step - loss: 0.8682 - accuracy: 0.7100 - val_loss: 0.8078 - val_accuracy: 0.7240\n",
            "Epoch 2/10\n",
            "1563/1563 [==============================] - 42s 27ms/step - loss: 0.8228 - accuracy: 0.7264 - val_loss: 0.7361 - val_accuracy: 0.7555\n",
            "Epoch 3/10\n",
            "1563/1563 [==============================] - 42s 27ms/step - loss: 0.7897 - accuracy: 0.7390 - val_loss: 0.6848 - val_accuracy: 0.7700\n",
            "Epoch 4/10\n",
            "1563/1563 [==============================] - 42s 27ms/step - loss: 0.7472 - accuracy: 0.7549 - val_loss: 0.6368 - val_accuracy: 0.7825\n",
            "Epoch 5/10\n",
            "1563/1563 [==============================] - 42s 27ms/step - loss: 0.7153 - accuracy: 0.7648 - val_loss: 0.6893 - val_accuracy: 0.7628\n",
            "Epoch 6/10\n",
            "1563/1563 [==============================] - 42s 27ms/step - loss: 0.6906 - accuracy: 0.7763 - val_loss: 0.6173 - val_accuracy: 0.7906\n",
            "Epoch 7/10\n",
            "1563/1563 [==============================] - 42s 27ms/step - loss: 0.6615 - accuracy: 0.7839 - val_loss: 0.5940 - val_accuracy: 0.8045\n",
            "Epoch 8/10\n",
            "1563/1563 [==============================] - 42s 27ms/step - loss: 0.6435 - accuracy: 0.7890 - val_loss: 0.5604 - val_accuracy: 0.8147\n",
            "Epoch 9/10\n",
            "1563/1563 [==============================] - 42s 27ms/step - loss: 0.6191 - accuracy: 0.7986 - val_loss: 0.5553 - val_accuracy: 0.8181\n",
            "Epoch 10/10\n",
            "1563/1563 [==============================] - 42s 27ms/step - loss: 0.5943 - accuracy: 0.8074 - val_loss: 0.5866 - val_accuracy: 0.8054\n"
          ]
        }
      ]
    },
    {
      "cell_type": "code",
      "source": [
        "loss, accuracy = model.evaluate(x_test, y_test)"
      ],
      "metadata": {
        "colab": {
          "base_uri": "https://localhost:8080/"
        },
        "id": "l0Z6Ew7XAwNT",
        "outputId": "c55d9aa1-cf76-49c5-c34b-0d827d7d11f7"
      },
      "execution_count": 16,
      "outputs": [
        {
          "output_type": "stream",
          "name": "stdout",
          "text": [
            "313/313 [==============================] - 4s 12ms/step - loss: 0.5866 - accuracy: 0.8054\n"
          ]
        }
      ]
    },
    {
      "cell_type": "code",
      "source": [
        "model.compile(optimizer='Nadam', loss=losses.SparseCategoricalCrossentropy(), metrics=['accuracy'])\n",
        "history = model.fit(x_train, y_train,\n",
        "              batch_size=32,\n",
        "              epochs=10,\n",
        "              validation_data=(x_test, y_test))"
      ],
      "metadata": {
        "colab": {
          "base_uri": "https://localhost:8080/"
        },
        "id": "t3OlmGNyA0W9",
        "outputId": "5e1687c8-e1de-4078-91b4-b40a3e9dae67"
      },
      "execution_count": 17,
      "outputs": [
        {
          "output_type": "stream",
          "name": "stdout",
          "text": [
            "Epoch 1/10\n",
            "1563/1563 [==============================] - 65s 39ms/step - loss: 0.5733 - accuracy: 0.8142 - val_loss: 0.5620 - val_accuracy: 0.8092\n",
            "Epoch 2/10\n",
            "1563/1563 [==============================] - 61s 39ms/step - loss: 0.5556 - accuracy: 0.8204 - val_loss: 0.5156 - val_accuracy: 0.8263\n",
            "Epoch 3/10\n",
            "1563/1563 [==============================] - 61s 39ms/step - loss: 0.5371 - accuracy: 0.8270 - val_loss: 0.5646 - val_accuracy: 0.8105\n",
            "Epoch 4/10\n",
            "1563/1563 [==============================] - 61s 39ms/step - loss: 0.5188 - accuracy: 0.8311 - val_loss: 0.5198 - val_accuracy: 0.8282\n",
            "Epoch 5/10\n",
            "1563/1563 [==============================] - 61s 39ms/step - loss: 0.5110 - accuracy: 0.8350 - val_loss: 0.4971 - val_accuracy: 0.8350\n",
            "Epoch 6/10\n",
            "1563/1563 [==============================] - 61s 39ms/step - loss: 0.4933 - accuracy: 0.8410 - val_loss: 0.5210 - val_accuracy: 0.8317\n",
            "Epoch 7/10\n",
            "1563/1563 [==============================] - 61s 39ms/step - loss: 0.4827 - accuracy: 0.8428 - val_loss: 0.5008 - val_accuracy: 0.8360\n",
            "Epoch 8/10\n",
            "1563/1563 [==============================] - 61s 39ms/step - loss: 0.4706 - accuracy: 0.8476 - val_loss: 0.5044 - val_accuracy: 0.8352\n",
            "Epoch 9/10\n",
            "1563/1563 [==============================] - 61s 39ms/step - loss: 0.4611 - accuracy: 0.8500 - val_loss: 0.4896 - val_accuracy: 0.8407\n",
            "Epoch 10/10\n",
            "1563/1563 [==============================] - 61s 39ms/step - loss: 0.4486 - accuracy: 0.8555 - val_loss: 0.4770 - val_accuracy: 0.8396\n"
          ]
        }
      ]
    },
    {
      "cell_type": "code",
      "source": [
        "loss, accuracy = model.evaluate(x_test, y_test)"
      ],
      "metadata": {
        "colab": {
          "base_uri": "https://localhost:8080/"
        },
        "id": "DpzTGP6iDc4F",
        "outputId": "48c3e66f-450a-4ace-a388-4ba42eb4b3fa"
      },
      "execution_count": 18,
      "outputs": [
        {
          "output_type": "stream",
          "name": "stdout",
          "text": [
            "313/313 [==============================] - 3s 9ms/step - loss: 0.4770 - accuracy: 0.8396\n"
          ]
        }
      ]
    },
    {
      "cell_type": "code",
      "source": [
        "model.compile(optimizer='Ftrl', loss=losses.SparseCategoricalCrossentropy(), metrics=['accuracy'])\n",
        "history = model.fit(x_train, y_train,\n",
        "              batch_size=32,\n",
        "              epochs=10,\n",
        "              validation_data=(x_test, y_test))"
      ],
      "metadata": {
        "colab": {
          "base_uri": "https://localhost:8080/"
        },
        "id": "6zsLs3CGDetj",
        "outputId": "faa27bae-8faa-4146-857f-9493cf1a58e0"
      },
      "execution_count": 20,
      "outputs": [
        {
          "output_type": "stream",
          "name": "stdout",
          "text": [
            "Epoch 1/10\n",
            "1563/1563 [==============================] - 50s 31ms/step - loss: 2.3014 - accuracy: 0.1005 - val_loss: 2.3026 - val_accuracy: 0.1000\n",
            "Epoch 2/10\n",
            "1563/1563 [==============================] - 47s 30ms/step - loss: 2.3026 - accuracy: 0.1000 - val_loss: 2.3026 - val_accuracy: 0.1000\n",
            "Epoch 3/10\n",
            "1563/1563 [==============================] - 47s 30ms/step - loss: 2.3026 - accuracy: 0.1000 - val_loss: 2.3026 - val_accuracy: 0.1000\n",
            "Epoch 4/10\n",
            "1563/1563 [==============================] - 47s 30ms/step - loss: 2.3026 - accuracy: 0.1000 - val_loss: 2.3026 - val_accuracy: 0.1000\n",
            "Epoch 5/10\n",
            "1563/1563 [==============================] - 48s 30ms/step - loss: 2.3026 - accuracy: 0.1000 - val_loss: 2.3026 - val_accuracy: 0.1000\n",
            "Epoch 6/10\n",
            "1563/1563 [==============================] - 47s 30ms/step - loss: 2.3026 - accuracy: 0.1000 - val_loss: 2.3026 - val_accuracy: 0.1000\n",
            "Epoch 7/10\n",
            "1563/1563 [==============================] - 47s 30ms/step - loss: 2.3026 - accuracy: 0.1000 - val_loss: 2.3026 - val_accuracy: 0.1000\n",
            "Epoch 8/10\n",
            "1563/1563 [==============================] - 47s 30ms/step - loss: 2.3026 - accuracy: 0.1000 - val_loss: 2.3026 - val_accuracy: 0.1000\n",
            "Epoch 9/10\n",
            "1563/1563 [==============================] - 47s 30ms/step - loss: 2.3026 - accuracy: 0.1000 - val_loss: 2.3026 - val_accuracy: 0.1000\n",
            "Epoch 10/10\n",
            "1563/1563 [==============================] - 47s 30ms/step - loss: 2.3026 - accuracy: 0.1000 - val_loss: 2.3026 - val_accuracy: 0.1000\n"
          ]
        }
      ]
    },
    {
      "cell_type": "code",
      "source": [
        "loss, accuracy = model.evaluate(x_test, y_test)"
      ],
      "metadata": {
        "colab": {
          "base_uri": "https://localhost:8080/"
        },
        "id": "VeZyUEJmI4M8",
        "outputId": "8cd760f5-3c31-45ba-c612-57ecd16e413b"
      },
      "execution_count": 21,
      "outputs": [
        {
          "output_type": "stream",
          "name": "stdout",
          "text": [
            "313/313 [==============================] - 3s 9ms/step - loss: 2.3026 - accuracy: 0.1000\n"
          ]
        }
      ]
    }
  ]
}